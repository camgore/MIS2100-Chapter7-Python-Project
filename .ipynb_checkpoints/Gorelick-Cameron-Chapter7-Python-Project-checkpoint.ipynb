{
 "cells": [
  {
   "cell_type": "code",
   "execution_count": 2,
   "id": "01079cc4",
   "metadata": {},
   "outputs": [],
   "source": [
    "class SimpleMath:\n",
    "    def divide(self, numerator, denominator):\n",
    "        if denominator==0:\n",
    "            raise ZeroDivisionError()\n",
    "        return numerator/denominator\n",
    "    def multiply(self, number1, number2):\n",
    "        return number1*number2\n",
    "            "
   ]
  },
  {
   "cell_type": "code",
   "execution_count": 3,
   "id": "84451f23",
   "metadata": {
    "scrolled": true
   },
   "outputs": [
    {
     "name": "stderr",
     "output_type": "stream",
     "text": [
      "\n",
      "----------------------------------------------------------------------\n",
      "Ran 0 tests in 0.000s\n",
      "\n",
      "OK\n"
     ]
    }
   ],
   "source": [
    "import unittest\n",
    "\n",
    "class SimpleMathTest(unittest.TestCase):\n",
    "    def testThatZeroNumeratorReturnsZero(self):\n",
    "        math = SimpleMath()\n",
    "        self.assertEqual(0,math.divide(0,7))\n",
    "    def testThatSmallerNumeratorReturnsDecimalValue(self):\n",
    "        math = SimpleMath()\n",
    "        self.assertEqual(0.25,math.divide(1,4))\n",
    "    def testThatSmallerNumeratorReturnsRepeatingDecimalValue(self):\n",
    "        math = SimpleMath()\n",
    "        self.assertAlmostEqual(0.143,math.divide(1,7))\n",
    "    def testThatZeroDenominatorThrowsException(self):\n",
    "        math = SimpleMath()\n",
    "        with self.assertRaises(ZeroDivisionError):\n",
    "            math.divide(6,0);\n",
    "    if __name__ == '__main__':\n",
    "        unittest.main(argv=['first-arg-is-ignored'], exit=False)"
   ]
  },
  {
   "cell_type": "code",
   "execution_count": null,
   "id": "818a8a9a",
   "metadata": {},
   "outputs": [],
   "source": []
  }
 ],
 "metadata": {
  "kernelspec": {
   "display_name": "Python 3",
   "language": "python",
   "name": "python3"
  },
  "language_info": {
   "codemirror_mode": {
    "name": "ipython",
    "version": 3
   },
   "file_extension": ".py",
   "mimetype": "text/x-python",
   "name": "python",
   "nbconvert_exporter": "python",
   "pygments_lexer": "ipython3",
   "version": "3.8.8"
  }
 },
 "nbformat": 4,
 "nbformat_minor": 5
}
